{
 "cells": [
  {
   "cell_type": "markdown",
   "metadata": {},
   "source": [
    "## 로지스틱 회귀\n",
    "\n",
    "  "
   ]
  },
  {
   "cell_type": "markdown",
   "metadata": {},
   "source": [
    "### 공부시간에 따른 합격여부 예제\n",
    "|공부시간   \t|   2\t|  4 \t| 6  \t| 8  \t|10  \t|12  \t|14  \t|\n",
    "|---\t|---\t|---\t|---\t|---\t|---\t|---\t|---\t|\n",
    "|합격여부   \t| 불합격  \t| 불합격  \t| 불합격  \t| 합격  \t| 합격  \t| 합격  \t| 합격  \t|"
   ]
  },
  {
   "cell_type": "markdown",
   "metadata": {},
   "source": [
    "### Sigmoid Function\n",
    "\n",
    "$y = \\frac{1}{1+e^{(-ax+b)}}$"
   ]
  },
  {
   "cell_type": "code",
   "execution_count": 12,
   "metadata": {},
   "outputs": [],
   "source": [
    "import numpy as np\n",
    "\n",
    "def sigmoid(x):\n",
    "  return 1 / (1 +np.exp(-x))"
   ]
  },
  {
   "cell_type": "code",
   "execution_count": 11,
   "metadata": {},
   "outputs": [
    {
     "data": {
      "text/plain": [
       "0.549833997312478"
      ]
     },
     "execution_count": 11,
     "metadata": {},
     "output_type": "execute_result"
    }
   ],
   "source": [
    "sigmoid(0.2)"
   ]
  },
  {
   "cell_type": "code",
   "execution_count": 42,
   "metadata": {},
   "outputs": [
    {
     "name": "stdout",
     "output_type": "stream",
     "text": [
      "Epoch: 0, loss= 4.4835, 기울기 a = 2.3946, y절편=-0.8820\n",
      "Epoch: 6000, loss= 0.0152, 기울기 a = 2.9209, y절편=20.2966\n",
      "Epoch: 12000, loss= 0.0081, 기울기 a = 3.5636, y절편=24.8002\n",
      "Epoch: 18000, loss= 0.0055, 기울기 a = 3.9556, y절편=27.5458\n",
      "Epoch: 24000, loss= 0.0041, 기울기 a = 4.2380, y절편=29.5227\n",
      "Epoch: 30000, loss= 0.0033, 기울기 a = 4.4585, y절편=31.0672\n",
      "Epoch: 36000, loss= 0.0028, 기울기 a = 4.6395, y절편=32.3343\n",
      "Epoch: 42000, loss= 0.0024, 기울기 a = 4.7929, y절편=33.4084\n",
      "Epoch: 48000, loss= 0.0021, 기울기 a = 4.9261, y절편=34.3404\n",
      "Epoch: 54000, loss= 0.0019, 기울기 a = 5.0436, y절편=35.1634\n",
      "Epoch: 60000, loss= 0.0017, 기울기 a = 5.1489, y절편=35.9003\n"
     ]
    }
   ],
   "source": [
    "import tensorflow as tf\n",
    "import numpy as np\n",
    "\n",
    "\n",
    "# x,y의 데이터값\n",
    "data = [[2, 0],[4, 0],[6, 0],[8, 1],[10, 1],[12, 1],[14, 1]]\n",
    "x_data = [x_row[0] for x_row in data]\n",
    "y_data = [y_row[1] for y_row in data]\n",
    "\n",
    "\n",
    "# a와 b의 값을 임의로 정한다.\n",
    "a = tf.Variable(tf.random_normal([1], dtype=tf.float64, seed=0 ))\n",
    "b = tf.Variable(tf.random_normal([1], dtype=tf.float64, seed=0 ))\n",
    "\n",
    "# y 시그모이드 함수의 방정식\n",
    "y = 1/(1+np.e**(-a*x_data+b))\n",
    "\n",
    "# Loss를 구하는 함수 \n",
    "\n",
    "loss = -tf.reduce_mean(np.array(y_data)*tf.log(y)+(1-np.array(y_data)) * tf.log(1-y))\n",
    "\n",
    "# 학습률 값\n",
    "learning_rate = 0.5\n",
    "\n",
    "# loss를 최소로 하는 값 찾기\n",
    "gradient_decent = tf.train.GradientDescentOptimizer(learning_rate).minimize(loss)\n",
    "\n",
    "#학습\n",
    "\n",
    "with tf.Session() as sess:\n",
    "    sess.run(tf.global_variables_initializer())\n",
    "    \n",
    "    for i in range(60001):\n",
    "        sess.run(gradient_decent)\n",
    "        if i % 6000 == 0:\n",
    "            print(\"Epoch: %.f, loss= %.4f, 기울기 a = %.4f, y절편=%.4f\" %(i, sess.run(loss), sess.run(a), sess.run(b)))\n",
    "\n",
    "\n"
   ]
  },
  {
   "cell_type": "markdown",
   "metadata": {},
   "source": []
  },
  {
   "cell_type": "markdown",
   "metadata": {},
   "source": [
    "### 다중 로지스틱 회귀"
   ]
  },
  {
   "cell_type": "code",
   "execution_count": 89,
   "metadata": {},
   "outputs": [
    {
     "name": "stdout",
     "output_type": "stream",
     "text": [
      "step=300, a1=0.9689, a2=-0.8142, b=-2.1882, loss=0.2829\n",
      "step=600, a1=0.9237, a2=-0.4732, b=-3.6931, loss=0.2024\n",
      "step=900, a1=0.8099, a2=-0.1065, b=-4.7890, loss=0.1571\n",
      "step=1200, a1=0.6901, a2=0.2272, b=-5.6552, loss=0.1278\n",
      "step=1500, a1=0.5793, a2=0.5205, b=-6.3719, loss=0.1073\n",
      "step=1800, a1=0.4810, a2=0.7766, b=-6.9833, loss=0.0923\n",
      "step=2100, a1=0.3947, a2=1.0011, b=-7.5165, loss=0.0809\n",
      "step=2400, a1=0.3191, a2=1.1990, b=-7.9893, loss=0.0719\n",
      "step=2700, a1=0.2528, a2=1.3748, b=-8.4140, loss=0.0647\n",
      "step=3000, a1=0.1942, a2=1.5323, b=-8.7996, loss=0.0588\n",
      "공부한 시간:7, 과외 수업횟수:6\n",
      "합격 가능성: 85.24 %\n"
     ]
    }
   ],
   "source": [
    "import tensorflow as tf\n",
    "import numpy as np\n",
    "\n",
    "# 실행할때마다 같은 결과를 출력하기 우한 seed값 출력\n",
    "seed=0\n",
    "np.random.seed(seed)\n",
    "tf.set_random_seed(seed)\n",
    "\n",
    "\n",
    "\n",
    "# x,y의 데이터값\n",
    "x_data = np.array([[2, 3],[4, 3],[6, 4],[8, 6],[10, 7],[12, 8],[14, 9]])\n",
    "y_data = np.array([0,0,0,1,1,1,1]).reshape(7,1)\n",
    "\n",
    "\n",
    "# 입력 값을 플레이스 홀더에 저장\n",
    "X = tf.placeholder(tf.float64, shape=[None,2]) \n",
    "Y = tf.placeholder(tf.float64, shape=[None,1])\n",
    "\n",
    "\n",
    "# a와 b의 값을 임의로 정한다.\n",
    "a = tf.Variable(tf.random_normal([2,1], dtype=tf.float64))\n",
    "b = tf.Variable(tf.random_normal([1], dtype=tf.float64))\n",
    "\n",
    "# y 시그모이드 함수의 방정식\n",
    "y = tf.sigmoid(tf.matmul(X,a)+b)\n",
    "\n",
    "# Loss를 구하는 함수 \n",
    "\n",
    "loss = -tf.reduce_mean(Y*tf.log(y) + (1-Y)*tf.log(1-y))\n",
    "\n",
    "# 학습률 값\n",
    "learning_rate = 0.1\n",
    "\n",
    "# loss를 최소로 하는 값 찾기\n",
    "gradient_decent = tf.train.GradientDescentOptimizer(learning_rate).minimize(loss)\n",
    "\n",
    "\n",
    "predicted = tf.cast(y > 0.5, dtype=tf.float64)\n",
    "accuracy = tf.reduce_mean(tf.cast(tf.equal(predicted, Y), dtype=tf.float64))\n",
    "\n",
    "\n",
    "# 학습\n",
    "with tf.Session() as sess:\n",
    "    sess.run(tf.global_variables_initializer())\n",
    "\n",
    "    for i in range(3001):\n",
    "        a_, b_, loss_, _ = sess.run([a, b, loss, gradient_decent], feed_dict={X: x_data, Y: y_data})\n",
    "        if (i + 1) % 300 == 0:\n",
    "            print(\"step=%d, a1=%.4f, a2=%.4f, b=%.4f, loss=%.4f\" % (i + 1, a_[0], a_[1], b_, loss_))\n",
    "            \n",
    "# 어떻게 활용하는가\n",
    "    new_x = np.array([7,6.]).reshape(1,2)\n",
    "    new_y = sess.run(y, feed_dict={X: new_x})\n",
    "    \n",
    "    print('공부한 시간:%d, 과외 수업횟수:%d' %(new_x[:,0], new_x[:,1]))\n",
    "    print('합격 가능성:%6.2f %%' % (new_y*100))"
   ]
  },
  {
   "cell_type": "code",
   "execution_count": null,
   "metadata": {},
   "outputs": [],
   "source": []
  }
 ],
 "metadata": {
  "kernelspec": {
   "display_name": "Python 3",
   "language": "python",
   "name": "python3"
  }
 },
 "nbformat": 4,
 "nbformat_minor": 2
}
