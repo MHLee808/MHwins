{
 "cells": [
  {
   "cell_type": "code",
   "execution_count": 3,
   "metadata": {},
   "outputs": [
    {
     "name": "stdout",
     "output_type": "stream",
     "text": [
      "5.0\n",
      "90.5\n",
      "20.0\n",
      "2.3\n"
     ]
    }
   ],
   "source": [
    "import numpy as np\n",
    "\n",
    "x = [2,4,6,8]\n",
    "y = [81,93,91,97]\n",
    "mx = np.mean(x)\n",
    "my = np.mean(y)\n",
    "\n",
    "divisor = sum([(mx-i)**2 for i in x])\n",
    "print(mx)\n",
    "print(my)\n",
    "print(divisor )\n",
    "\n",
    "def top(x,mx,y,my):\n",
    "    d = 0\n",
    "    for i in range(len(x)):\n",
    "        d += (x[i]-mx)*(y[i]-my)\n",
    "    return d\n",
    "\n",
    "dividend = top(x,mx,y,my)\n",
    "\n",
    "a = dividend /divisor\n",
    "print(a)"
   ]
  },
  {
   "cell_type": "code",
   "execution_count": 1,
   "metadata": {
    "scrolled": true
   },
   "outputs": [
    {
     "ename": "NameError",
     "evalue": "name 'x' is not defined",
     "output_type": "error",
     "traceback": [
      "\u001b[1;31m---------------------------------------------------------------------------\u001b[0m",
      "\u001b[1;31mNameError\u001b[0m                                 Traceback (most recent call last)",
      "\u001b[1;32m<ipython-input-1-e48b6db6d373>\u001b[0m in \u001b[0;36m<module>\u001b[1;34m\u001b[0m\n\u001b[0;32m      5\u001b[0m     \u001b[1;32mreturn\u001b[0m \u001b[0md\u001b[0m\u001b[1;33m\u001b[0m\u001b[1;33m\u001b[0m\u001b[0m\n\u001b[0;32m      6\u001b[0m \u001b[1;33m\u001b[0m\u001b[0m\n\u001b[1;32m----> 7\u001b[1;33m \u001b[0mdividend\u001b[0m \u001b[1;33m=\u001b[0m \u001b[0mtop\u001b[0m\u001b[1;33m(\u001b[0m\u001b[0mx\u001b[0m\u001b[1;33m,\u001b[0m\u001b[0mmx\u001b[0m\u001b[1;33m,\u001b[0m\u001b[0my\u001b[0m\u001b[1;33m,\u001b[0m\u001b[0mmy\u001b[0m\u001b[1;33m)\u001b[0m\u001b[1;33m\u001b[0m\u001b[1;33m\u001b[0m\u001b[0m\n\u001b[0m\u001b[0;32m      8\u001b[0m \u001b[1;33m\u001b[0m\u001b[0m\n\u001b[0;32m      9\u001b[0m \u001b[1;33m\u001b[0m\u001b[0m\n",
      "\u001b[1;31mNameError\u001b[0m: name 'x' is not defined"
     ]
    }
   ],
   "source": [
    "def top(x,mx,y,my):\n",
    "    d = 0\n",
    "    for i in range(len(x)):\n",
    "        d += (x[i]-mx)*(y[i]-my)\n",
    "    return d\n",
    "\n",
    "dividend = top(x,mx,y,my)\n",
    "\n",
    "    "
   ]
  },
  {
   "cell_type": "markdown",
   "metadata": {},
   "source": [
    "## [My First Regression]\n",
    "### (TextBook P.48~49)\n",
    "## *Slop a ##\n",
    "$ a =\\frac{\\sum_{i=1}^n (x-mean(x))(y-mean(y))}{\\sum_{i=1}^n (x-mean(x))^2} $\n",
    "## *y  ##\n",
    "$ b = mean(y)-(mean(x) \\times{a})$"
   ]
  },
  {
   "cell_type": "code",
   "execution_count": 79,
   "metadata": {},
   "outputs": [
    {
     "name": "stdout",
     "output_type": "stream",
     "text": [
      "[2, 4, 6, 8]\n",
      "[2 4 6 8]\n",
      "[83.6 88.2 92.8 97.4]\n"
     ]
    },
    {
     "data": {
      "image/png": "[encoded data removed]",
      "text/plain": [
       "<Figure size 432x288 with 1 Axes>"
      ]
     },
     "metadata": {
      "needs_background": "light"
     },
     "output_type": "display_data"
    }
   ],
   "source": [
    "import numpy  as np\n",
    "import matplotlib.pyplot as plt \n",
    "\n",
    "x = [2,4,6,8]\n",
    "y = [81, 93, 91, 97]\n",
    "print(x)\n",
    "\n",
    "xx = np.arange(2,9,2)\n",
    "yy = 2.3 *xx+79\n",
    "print(xx)\n",
    "print(yy)\n",
    "plt.plot(xx, yy, label='Using set_dashes()')\n",
    "plt.scatter(x, y, s=100,c=\"r\")\n",
    "plt.scatter(xx, yy, s=100,c=\"b\")\n",
    "plt.xlabel('Input Time')\n",
    "plt.ylabel('Score')\n",
    "plt.title('My First Linear Regression')\n",
    "plt.grid(True)\n"
   ]
  },
  {
   "cell_type": "code",
   "execution_count": 98,
   "metadata": {},
   "outputs": [
    {
     "name": "stdout",
     "output_type": "stream",
     "text": [
      "x의 평균값: 5.0\n",
      "y의 평균값: 90.5\n",
      "20.0\n",
      "분모: 20.0\n",
      "분자: 46.0\n",
      "기울기 a = 2.3\n",
      "y절편  b = 79.0\n"
     ]
    }
   ],
   "source": [
    "import numpy as np\n",
    "\n",
    "# x값과 y값\n",
    "x =[2,4,6,8]\n",
    "y= [81,93,91,97]\n",
    "\n",
    "# x와 y의 평균값\n",
    "mx = np.mean(x)\n",
    "my = np.mean(y)\n",
    "print('x의 평균값:', mx)\n",
    "print('y의 평균값:', my)\n",
    "\n",
    "## Extract Least Square 성분 a,b\n",
    "# 기울기 공식의 분모\n",
    "divisor = sum([(mx-i)**2 for i in x])\n",
    "print(divisor)\n",
    "\n",
    "# 기울기 공식의 분자\n",
    "def top(x,mx,y,my):\n",
    "    d = 0\n",
    "    for i in range(len(x)):\n",
    "\n",
    "        d += (x[i]-mx)*(y[i]-my)\n",
    "\n",
    "    return d\n",
    "\n",
    "dividend = top(x,mx,y,my)\n",
    "\n",
    "print('분모:', divisor)\n",
    "print('분자:', dividend)\n",
    "\n",
    "\n",
    "#기울기 와 y절편\n",
    "a = dividend / divisor\n",
    "b = my -(mx*a)\n",
    "\n",
    "#출력\n",
    "print('기울기 a =', a)\n",
    "print('y절편  b =', b)\n"
   ]
  },
  {
   "cell_type": "code",
   "execution_count": 109,
   "metadata": {},
   "outputs": [
    {
     "name": "stdout",
     "output_type": "stream",
     "text": [
      "x의 평균값: 5.0\n",
      "y의 평균값: 90.5\n",
      "20.0\n",
      "28.5\n",
      "26.0\n",
      "26.5\n",
      "46.0\n",
      "분모: 20.0\n",
      "분자: 46.0\n",
      "기울기 a = 2.3\n",
      "y절편  b = 79.0\n"
     ]
    }
   ],
   "source": [
    "import numpy as np\n",
    "\n",
    "# x값과 y값\n",
    "x =[2,4,6,8]\n",
    "y= [81,93,91,97]\n",
    "\n",
    "# x와 y의 평균값\n",
    "mx = np.mean(x)\n",
    "my = np.mean(y)\n",
    "print('x의 평균값:', mx)\n",
    "print('y의 평균값:', my)\n",
    "\n",
    "## Extract Least Square 성분 a,b\n",
    "# 기울기 공식의 분모\n",
    "divisor = sum([(mx-i)**2 for i in x])\n",
    "print(divisor)\n",
    "\n",
    "# 기울기 공식의 분자\n",
    "\n",
    "d = 0\n",
    "for i in range(len(x)):\n",
    "    d += (x[i]-mx)*(y[i]-my)\n",
    "    print(d)\n",
    "dividend = d\n",
    "print('분모:', divisor)\n",
    "print('분자:', dividend)\n",
    "\n",
    "\n",
    "#기울기 와 y절편\n",
    "a = dividend / divisor\n",
    "b = my -(mx*a)\n",
    "\n",
    "#출력\n",
    "print('기울기 a =', a)\n",
    "print('y절편  b =', b)\n"
   ]
  },
  {
   "cell_type": "code",
   "execution_count": null,
   "metadata": {},
   "outputs": [],
   "source": []
  },
  {
   "cell_type": "code",
   "execution_count": null,
   "metadata": {},
   "outputs": [],
   "source": []
  }
 ],
 "metadata": {
  "kernelspec": {
   "display_name": "Python 3",
   "language": "python",
   "name": "python3"
  },
  "language_info": {
   "codemirror_mode": {
    "name": "ipython",
    "version": 3
   },
   "file_extension": ".py",
   "mimetype": "text/x-python",
   "name": "python",
   "nbconvert_exporter": "python",
   "pygments_lexer": "ipython3",
   "version": "3.7.3"
  }
 },
 "nbformat": 4,
 "nbformat_minor": 2
}
